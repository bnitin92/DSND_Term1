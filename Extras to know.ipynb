{
 "cells": [
  {
   "cell_type": "code",
   "execution_count": 1,
   "metadata": {},
   "outputs": [
    {
     "data": {
      "text/plain": [
       "'\\nfeatures = features.fillna(0.0)\\ndisplay(features.head())\\n'"
      ]
     },
     "execution_count": 1,
     "metadata": {},
     "output_type": "execute_result"
    }
   ],
   "source": [
    "# to fillup the na \n",
    "\"\"\"\n",
    "features = features.fillna(0.0)\n",
    "display(features.head())\n",
    "\"\"\"\n"
   ]
  },
  {
   "cell_type": "markdown",
   "metadata": {},
   "source": [
    "## 2.Lessons from DeepLearning"
   ]
  },
  {
   "cell_type": "code",
   "execution_count": 1,
   "metadata": {},
   "outputs": [],
   "source": [
    "# Basic perceptron calculation\n"
   ]
  },
  {
   "cell_type": "code",
   "execution_count": 2,
   "metadata": {},
   "outputs": [],
   "source": [
    "# Cross Entropy\n",
    "\n",
    "import numpy as np\n",
    "\n",
    "# Write a function that takes as input two lists Y, P,\n",
    "# and returns the float corresponding to their cross-entropy.\n",
    "def cross_entropy(Y, P):\n",
    "    # entropy = 0\n",
    "    # for i in range(len(Y)):\n",
    "    #     entropy = float(entropy) + (Y[i] * np.log(P[i])) + ((1-Y[i]) * np.log(1-P[i]))\n",
    "    # return -entropy\n",
    "    \n",
    "    \"\"\"\n",
    "    We convert the list to np.array so that when we subtract 1-Y i.e int to array, it is supported.\n",
    "    Else subtracting int from list is not supported.\n",
    "    \"\"\"\n",
    "    P = np.float_(P)\n",
    "    Y = np.float_(Y)\n",
    "    print(Y)\n",
    "    print(P)\n",
    "    return - np.sum(Y * np.log(P) + (1-Y) * np.log(1-P))"
   ]
  },
  {
   "cell_type": "code",
   "execution_count": 1,
   "metadata": {},
   "outputs": [
    {
     "data": {
      "text/plain": [
       "\"\\nWhile doing one hot encoding always use this format\\n\\ndummies = pd.dummies(df[column], prefixstring)\\nohe = pd.concat([df, dummies], axis=1)\\nohe = ohe.drop(['column'])\\n\""
      ]
     },
     "execution_count": 1,
     "metadata": {},
     "output_type": "execute_result"
    }
   ],
   "source": [
    "# student data backpropogation\n",
    "\n",
    "\"\"\"\n",
    "While doing one hot encoding always use this format\n",
    "\n",
    "dummies = pd.dummies(df[column], prefixstring)\n",
    "ohe = pd.concat([df, dummies], axis=1)\n",
    "ohe = ohe.drop(['column'])\n",
    "\"\"\"\n",
    "\n",
    "\n",
    "# we can divide or multiply any colume in a dataframe"
   ]
  },
  {
   "cell_type": "code",
   "execution_count": 1,
   "metadata": {},
   "outputs": [
    {
     "data": {
      "text/plain": [
       "\"\\n# Defining the sigmoid function for activations\\ndef sigmoid(x):\\n    return 1/(1+np.exp(-x))\\n\\n# Derivative of the sigmoid function\\ndef sigmoid_prime(x):\\n    return sigmoid(x) * (1 - sigmoid(x))\\n\\n# Input data\\nx = np.array([0.1, 0.3])\\n# Target\\ny = 0.2\\n# Input to output weights\\nweights = np.array([-0.8, 0.5])\\n\\n# The learning rate, eta in the weight step equation\\nlearnrate = 0.5\\n\\n# the linear combination performed by the node (h in f(h) and f'(h))\\nh = x[0]*weights[0] + x[1]*weights[1]\\n# or h = np.dot(x, weights)\\n\\n# The neural network output (y-hat)\\nnn_output = sigmoid(h)\\n\\n# output error (y - y-hat)\\nerror = y - nn_output\\n\\n# output gradient (f'(h))\\noutput_grad = sigmoid_prime(h)\\n\\n# error term (lowercase delta)\\nerror_term = error * output_grad\\n\\n# Gradient descent step \\ndel_w = [ learnrate * error_term * x[0],\\n          learnrate * error_term * x[1]]\\n# or del_w = learnrate * error_term * x\\n\""
      ]
     },
     "execution_count": 1,
     "metadata": {},
     "output_type": "execute_result"
    }
   ],
   "source": [
    "# Gradient descent using np \n",
    "\"\"\"\n",
    "# Defining the sigmoid function for activations\n",
    "def sigmoid(x):\n",
    "    return 1/(1+np.exp(-x))\n",
    "\n",
    "# Derivative of the sigmoid function\n",
    "def sigmoid_prime(x):\n",
    "    return sigmoid(x) * (1 - sigmoid(x))\n",
    "\n",
    "# Input data\n",
    "x = np.array([0.1, 0.3])\n",
    "# Target\n",
    "y = 0.2\n",
    "# Input to output weights\n",
    "weights = np.array([-0.8, 0.5])\n",
    "\n",
    "# The learning rate, eta in the weight step equation\n",
    "learnrate = 0.5\n",
    "\n",
    "# the linear combination performed by the node (h in f(h) and f'(h))\n",
    "h = x[0]*weights[0] + x[1]*weights[1]\n",
    "# or h = np.dot(x, weights)\n",
    "\n",
    "# The neural network output (y-hat)\n",
    "nn_output = sigmoid(h)\n",
    "\n",
    "# output error (y - y-hat)\n",
    "error = y - nn_output\n",
    "\n",
    "# output gradient (f'(h))\n",
    "output_grad = sigmoid_prime(h)\n",
    "\n",
    "# error term (lowercase delta)\n",
    "error_term = error * output_grad\n",
    "\n",
    "# Gradient descent step \n",
    "del_w = [ learnrate * error_term * x[0],\n",
    "          learnrate * error_term * x[1]]\n",
    "# or del_w = learnrate * error_term * x\n",
    "\"\"\""
   ]
  },
  {
   "cell_type": "code",
   "execution_count": null,
   "metadata": {},
   "outputs": [],
   "source": []
  }
 ],
 "metadata": {
  "kernelspec": {
   "display_name": "Python 3",
   "language": "python",
   "name": "python3"
  },
  "language_info": {
   "codemirror_mode": {
    "name": "ipython",
    "version": 3
   },
   "file_extension": ".py",
   "mimetype": "text/x-python",
   "name": "python",
   "nbconvert_exporter": "python",
   "pygments_lexer": "ipython3",
   "version": "3.7.6"
  }
 },
 "nbformat": 4,
 "nbformat_minor": 4
}
